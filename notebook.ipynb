{
 "cells": [
  {
   "cell_type": "code",
   "execution_count": null,
   "metadata": {},
   "outputs": [
    {
     "data": {
      "text/plain": [
       "10\n",
       "3.141592653589793\n"
      ]
     },
     "metadata": {},
     "output_type": "display_data"
    }
   ],
   "source": [
    "x = 10\n",
    "print(x)\n",
    "import numpy as np\n",
    "print(np.pi)"
   ]
  },
  {
   "cell_type": "code",
   "execution_count": null,
   "metadata": {},
   "outputs": [
    {
     "data": {
      "text/plain": [
       "1\n"
      ]
     },
     "metadata": {},
     "output_type": "display_data"
    }
   ],
   "source": [
    "a = np.random.randint(5)\n",
    "print(a)"
   ]
  },
  {
   "cell_type": "markdown",
   "metadata": {},
   "source": [
    "LICZBY PIERWSZE"
   ]
  },
  {
   "cell_type": "code",
   "execution_count": null,
   "metadata": {},
   "outputs": [
    {
     "data": {
      "text/plain": [
       "TAK\n",
       "NIE\n",
       "NIE\n",
       "NIE\n",
       "NIE\n",
       "TAK\n",
       "TAK\n",
       "NIE\n"
      ]
     },
     "metadata": {},
     "output_type": "display_data"
    }
   ],
   "source": [
    "def Prime(n):\n",
    "    d = 0\n",
    "    for i in range(1,n+1):\n",
    "        if n%i == 0:\n",
    "            d += 1\n",
    "    if d == 2:\n",
    "        print('TAK')\n",
    "    else: print('NIE')\n",
    "\n",
    "Prime(5)\n",
    "Prime(14)\n",
    "Prime(0)\n",
    "Prime(1)\n",
    "Prime(-5)\n",
    "Prime(2)\n",
    "Prime(47)\n",
    "Prime(-3)"
   ]
  },
  {
   "cell_type": "markdown",
   "metadata": {},
   "source": [
    "PRZEDSZKOLANKA - NWW"
   ]
  },
  {
   "cell_type": "markdown",
   "metadata": {},
   "source": [
    "\n",
    "def NWW(a, b):\n",
    "    return np.abs(a*b)/math.gcd(a,b)\n",
    "\n",
    "print(int(NWW(2,11)))\n"
   ]
  },
  {
   "cell_type": "markdown",
   "metadata": {},
   "source": [
    "FLAMASTER"
   ]
  },
  {
   "cell_type": "code",
   "execution_count": null,
   "metadata": {},
   "outputs": [
    {
     "data": {
      "text/plain": [
       "5\n"
      ]
     },
     "metadata": {},
     "output_type": "display_data"
    }
   ],
   "source": [
    "def short(word):\n",
    "    print(len(word))\n",
    "\n",
    "short('reasd')"
   ]
  },
  {
   "cell_type": "markdown",
   "metadata": {},
   "source": [
    "POLE PEWNEGO KOŁA"
   ]
  },
  {
   "cell_type": "code",
   "execution_count": null,
   "metadata": {},
   "outputs": [
    {
     "data": {
      "text/plain": [
       "235.61944901923454\n"
      ]
     },
     "metadata": {},
     "output_type": "display_data"
    }
   ],
   "source": [
    "import numpy as np\n",
    "def pole(r, d):\n",
    "    R = np.sqrt(r**2 - (d/2)**2)\n",
    "    print(np.pi*(R**2))\n",
    "\n",
    "pole(10,10)"
   ]
  },
  {
   "cell_type": "code",
   "execution_count": null,
   "metadata": {},
   "outputs": [],
   "source": []
  }
 ],
 "metadata": {
  "language_info": {
   "name": "python"
  }
 },
 "nbformat": 4,
 "nbformat_minor": 2
}
